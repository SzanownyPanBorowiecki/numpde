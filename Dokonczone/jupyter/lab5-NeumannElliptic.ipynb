{
 "cells": [
  {
   "cell_type": "markdown",
   "metadata": {
    "id": "5lf7SJVYdrBe"
   },
   "source": [
    "## Numeryczne Rozwiązywanie Rónań Różniczkowych Cząstkowych\n",
    "### Uniwersytet Jagielloński 2021\n",
    "Katedra Teorii Optymalizacji i Sterowania UJ\n",
    "\n"
   ]
  },
  {
   "cell_type": "markdown",
   "metadata": {
    "id": "wkwMG227dyKZ"
   },
   "source": [
    "# Metoda różnic skończonych\n",
    "\n",
    "\n",
    "## Laboratorium V\n",
    "### Warunek brzegowy Neumanna\n",
    "\n",
    "$$ u_{xx}  + u_{yy} = 0$$\n",
    "\n",
    "$$ u_{| \\partial{D}} = 0 \\,\\,\\,\\,\\, \\text{for } x = 1 \\text{ and } 0 \\leq y <1$$\n",
    "$$ u_{| \\partial{D}} = 1 \\,\\,\\,\\,\\, \\text{for } y = 1 \\text{ and } 0 \\leq x <1$$\n",
    "\n",
    "$$ \\frac{\\partial u}{\\partial x} = 0 \\,\\,\\,\\,\\, \\text{for } x = 0 \\text{ and } 0 \\leq y <1$$\n",
    "$$ \\frac{\\partial u}{\\partial y} = 0 \\,\\,\\,\\,\\, \\text{for } y = 0 \\text{ and } 0 \\leq x <1$$\n",
    "\n",
    "$$ D = \\{(x, y) \\in R^2 : x, y \\in (0, 1) \\} $$\n",
    "\n",
    "Rozwiązanie dokładne: brak :("
   ]
  },
  {
   "cell_type": "code",
   "execution_count": null,
   "metadata": {
    "id": "8gjbWJ3-d2PE"
   },
   "outputs": [],
   "source": [
    "import numpy as np\n",
    "import scipy as sc\n",
    "import scipy.sparse.linalg\n",
    "from mpl_toolkits.mplot3d import Axes3D\n",
    "import matplotlib.pyplot as plt\n",
    "from matplotlib import cm\n",
    "from matplotlib.ticker import LinearLocator, FormatStrFormatter\n",
    "from scipy.sparse import lil_matrix, csr_matrix\n",
    "from typing import Optional\n",
    "import time"
   ]
  },
  {
   "cell_type": "code",
   "execution_count": null,
   "metadata": {
    "id": "NWqt8umcd4bj"
   },
   "outputs": [],
   "source": [
    "import scipy.sparse.linalg\n",
    "\n",
    "class SetupElliptic:\n",
    "    def __init__(self, dx: float, dy: float, f, x_range, y_range, boundary_right, boundary_up, boundary_left, boundary_down):\n",
    "        self.x_range = x_range\n",
    "        self.y_range = y_range\n",
    "        self.boundary_left = boundary_left\n",
    "        self.boundary_right = boundary_right\n",
    "        self.boundary_up = boundary_up\n",
    "        self.boundary_down = boundary_down        \n",
    "\n",
    "        self.f = f\n",
    "        self.x_num = round((self.x_range[1] - self.x_range[0]) / dx) + 1\n",
    "        self.y_num = round((self.y_range[1] - self.y_range[0]) / dy) + 1\n",
    "        self.X, self.dx = np.linspace(*self.x_range, self.x_num, retstep=True)\n",
    "        self.Y, self.dy = np.linspace(*self.y_range, self.y_num, retstep=True)\n",
    "\n",
    "def scheme_elliptic(setup):\n",
    "    ex = np.ones(setup.x_num-1)\n",
    "    A = scipy.sparse.dia_matrix((np.array([-1/setup.dx**2 * ex, 2*(1/setup.dx**2 + 1/setup.dy**2) * ex, -1/setup.dx**2 * ex]), [-1, 0, 1]), shape=(setup.x_num-1, setup.x_num-1))\n",
    "    A[0,0] = -1/setup.dx\n",
    "    A[0,1] = 1/setup.dx\n",
    "    B = scipy.sparse.dia_matrix((-1/setup.dy**2 * ex, [0]), shape=(setup.x_num-2, setup.x_num-2))\n",
    "    X_data = [ [None]*(setup.y_num-2) for i in range(setup.y_num-2)]\n",
    "    X_data[0][0] = A\n",
    "    for i in range(1,setup.y_num-2):\n",
    "        X_data[i][i] = A\n",
    "        X_data[i-1][i] = B\n",
    "        X_data[i][i-1] = B\n",
    "    X = scipy.sparse.bmat(X_data, format=\"csc\")\n",
    "    f_vec = np.zeros((setup.x_num-2) * (setup.y_num-2))\n",
    "    n = 0\n",
    "    for j in range(setup.y_num-2):\n",
    "        for i in range(setup.x_num-2):\n",
    "            f_vec[n] += setup.f(setup.X[i+1], setup.Y[j+1])\n",
    "            if (i == 0):\n",
    "                f_vec[n] += 1/setup.dx**2 * setup.boundary_left(setup.Y[j+1])\n",
    "            if (i == setup.x_num-3):\n",
    "                f_vec[n] += 1/setup.dx**2 * setup.boundary_right(setup.Y[j+1])\n",
    "            if (j == 0):\n",
    "                f_vec[n] += 1/setup.dy**2 * setup.boundary_down(setup.X[i+1])\n",
    "            if (j == setup.y_num-3):\n",
    "                f_vec[n] += 1/setup.dy**2 * setup.boundary_up(setup.X[i+1])\n",
    "            n+=1\n",
    "\n",
    "    u = scipy.sparse.linalg.spsolve(X, f_vec).reshape(setup.y_num-2, setup.x_num-2) # od 1 do Nx-1, 1 do Ny-1\n",
    "    r = np.zeros((setup.y_num, setup.x_num))\n",
    "    for j in range(setup.y_num):\n",
    "        r[j,0] = setup.boundary_left(setup.Y[j])\n",
    "        r[j,setup.x_num-1] = setup.boundary_right(setup.Y[j])\n",
    "    for i in range(setup.x_num):\n",
    "        r[0,i] = setup.boundary_down(setup.X[i])\n",
    "        r[setup.y_num-1,i] = setup.boundary_up(setup.X[i])\n",
    "    r[1:setup.y_num-1, 1:setup.x_num-1] = u\n",
    "    return setup.X, setup.Y, r"
   ]
  },
  {
   "cell_type": "code",
   "execution_count": null,
   "metadata": {
    "id": "Xj3GLJcwd8n0"
   },
   "outputs": [],
   "source": [
    "def scheme_elliptic(setup):\n",
    "    size = (setup.x_num + 1) * (setup.y_num + 1)\n",
    "    A = lil_matrix((size, size))\n",
    "    hx = 1 / setup.dx ** 2\n",
    "    hy = 1 / setup.dy ** 2\n",
    "    r = -2 * (hx + hy)\n",
    "\n",
    "    d = np.zeros(size)\n",
    "    s = setup.y_num + 1\n",
    "    for i in range(0, setup.x_num + 1):\n",
    "        for j in range(0, setup.y_num + 1):\n",
    "            # TODO\n",
    "\n",
    "    A = csr_matrix(A)\n",
    "    w = sc.sparse.linalg.spsolve(A, d)\n",
    "    w = w.reshape(setup.x_num + 1, setup.y_num + 1)\n",
    "\n",
    "    return w"
   ]
  },
  {
   "cell_type": "code",
   "execution_count": null,
   "metadata": {
    "id": "Z-iBYkbPeB72"
   },
   "outputs": [],
   "source": [
    "def plot_surface(values: float, setup):\n",
    "    fig = plt.figure()\n",
    "    ax = fig.gca(projection='3d')\n",
    "\n",
    "    # Prepare grid.\n",
    "    X = np.linspace(*setup.x_range, setup.x_num + 1)\n",
    "    Y = np.linspace(*setup.y_range, setup.y_num + 1)\n",
    "    X, Y = np.meshgrid(X, Y)\n",
    "\n",
    "    # Plot the surface.\n",
    "    surf = ax.plot_surface(X, Y, values, cmap=cm.coolwarm,\n",
    "                           linewidth=0, antialiased=False)\n",
    "\n",
    "    # Customize the z axis.\n",
    "    # ax.set_zlim(-1.01, 1.01)\n",
    "    ax.zaxis.set_major_locator(LinearLocator(10))\n",
    "    ax.zaxis.set_major_formatter(FormatStrFormatter('%.02f'))\n",
    "\n",
    "    # Add a color bar which maps values to colors.\n",
    "    fig.colorbar(surf, shrink=0.5, aspect=5)\n",
    "\n",
    "    plt.show()"
   ]
  },
  {
   "cell_type": "code",
   "execution_count": null,
   "metadata": {
    "id": "Mf98GjETd_oN"
   },
   "outputs": [],
   "source": [
    "%%time\n",
    "# numerical solution\n",
    "setup_elliptic = SetupElliptic(0.005)\n",
    "numerical_elliptic = scheme_elliptic(setup_elliptic)"
   ]
  },
  {
   "cell_type": "code",
   "execution_count": null,
   "metadata": {
    "id": "w6kfztI9fmYJ"
   },
   "outputs": [],
   "source": [
    "plot_surface(numerical_elliptic, setup_elliptic)"
   ]
  },
  {
   "cell_type": "markdown",
   "metadata": {
    "id": "te9q0l4dnxAF"
   },
   "source": [
    "# Rozważyć warunki brzegowe (Dirichleta i Neumanna) różne od zera\n",
    "\n"
   ]
  },
  {
   "cell_type": "code",
   "execution_count": null,
   "metadata": {
    "id": "_lVkKxp3n3_Z"
   },
   "outputs": [],
   "source": []
  }
 ],
 "metadata": {
  "colab": {
   "name": "NeumannElliptic.ipynb",
   "private_outputs": true,
   "provenance": []
  },
  "kernelspec": {
   "display_name": "Python 3 (ipykernel)",
   "language": "python",
   "name": "python3"
  },
  "language_info": {
   "codemirror_mode": {
    "name": "ipython",
    "version": 3
   },
   "file_extension": ".py",
   "mimetype": "text/x-python",
   "name": "python",
   "nbconvert_exporter": "python",
   "pygments_lexer": "ipython3",
   "version": "3.9.9"
  }
 },
 "nbformat": 4,
 "nbformat_minor": 4
}
