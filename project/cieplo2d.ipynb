{
 "cells": [
  {
   "cell_type": "markdown",
   "metadata": {
    "id": "DhxA7KULAGCu"
   },
   "source": [
    "## Równanie ciepła w 2D i w czasie metodą elementu skończonego"
   ]
  },
  {
   "cell_type": "markdown",
   "metadata": {},
   "source": [
    "### Zagadnienie ###\n",
    "\n",
    "$$\\renewcommand{\\vec}[1]{\\underline{#1}}$$\n",
    "Mamy do rozwiązania: \n",
    "$$\n",
    "\\begin{align}\n",
    "u_t - \\Delta u &= f \\quad \\textrm{w } \\Omega \\\\\n",
    "u\\mid_{\\partial\\Omega} &= g \\\\\n",
    "\\frac{\\partial u}{\\partial n} &= 0\n",
    "\\end{align}\n",
    "$$\n",
    "\n",
    "Dyskretyzujemy czas: $$u_t \\approx \\frac{u^{n+1}-u^n}{\\tau}$$ by otrzymać:\n",
    "\n",
    "$$\\frac{u^{n+1}-u^n}{\\tau} - \\Delta u^{n+1} = f^{n+1}$$\n",
    "\n",
    "co po przekształceniu daje $N$ równań różniczkowych do rozwiązania:\n",
    "\n",
    "$$u^{n+1} - \\tau\\Delta u^{n+1} = u^n + \\tau f^{n+1} \\tag*{($0 \\leq n \\leq N$)}$$\n",
    "\n",
    "gdzie $u^n(\\vec{x}) = u(\\vec{x},t_n)$ i $f^{n+1}$ są danymi, a szukaną jest $u^{n+1}$."
   ]
  },
  {
   "cell_type": "markdown",
   "metadata": {},
   "source": [
    "### MES ###\n",
    "\n",
    "Równania kolejno rozwiązujemy metodą elementu skończonego.\n",
    "\n",
    "Zagadnienie $n+1$ postawione w formie słabej:\n",
    "\n",
    "$$a(u,v) = \\int_{\\Omega}(u-\\tau\\Delta u)v d\\Omega = \\int_{\\Omega}(u^{n} + \\tau f^{n+1})v d\\Omega = l_{n+1}(v) \\quad \\forall v$$\n",
    "Z twierdzenia Gaussa i założenia $\\frac{\\partial u}{\\partial n} = 0$ otrzymujemy:\n",
    "$$\\begin{align}\n",
    "\\int_{\\Omega}\\nabla\\cdot(v\\nabla u) d\\Omega &= \\int_{\\partial\\Omega}v\\frac{\\delta u}{\\delta \\vec{n}} d\\Omega \\\\ &= 0\\\\\n",
    "&= \\int_{\\Omega}\\nabla v \\cdot \\nabla u d\\Omega + \\int_\\Omega (v\\Delta u) d\\Omega\n",
    "\\end{align}\n",
    "$$\n",
    "czyli $$a(u,v) = \\int_\\Omega uv d\\Omega + \\tau\\int_\\Omega \\nabla u \\cdot \\nabla v d\\Omega$$\n",
    "i wystarczy, że $u$ będzie klasy $C^0$.\n",
    "\n",
    "\n",
    "Użyjemy trójkątów Lagrange'a z jednym stopniem swobody.\n",
    "Niech $T$ będzie elementem standardowym (trójkąt o wierzchołkach $(0,0), (1,0), (0,1)$).\n",
    "Definiujemy funkcje kształtu na $T$: $$\\begin{align}\\Lambda_0(x,y) &= 1-x-y \\\\ \\Lambda_1(x,y) &= x \\\\ \\Lambda_2(x,y) &= y\\end{align}$$\n",
    "oraz, dla każdego elementu skończonego $e$ o wierzchołkach $\\vec{x_0}, \\vec{x_1}, \\vec{x_2}$, przekształcenie afiniczne\n",
    "$$\\begin{align}\n",
    "\\phi_e: T &\\to \\Omega_e \\\\\n",
    "x &\\mapsto M_ex+\\vec{x_0}\n",
    "\\end{align}$$\n",
    "gdzie \n",
    "$$\n",
    "M_e = \\begin{pmatrix}\n",
    "\\uparrow & \\uparrow \\\\\n",
    "\\vec{x_1}-\\vec{x_0} & \\vec{x_2}-\\vec{x_0} \\\\\n",
    "\\downarrow & \\downarrow\n",
    "\\end{pmatrix}\n",
    "$$\n",
    "\n",
    "Składając powyższe przekształcenia z funkcją kształtu, dla każdego wierzchołka $\\vec{x_i}$ otrzymujemy przedziałami liniową funkcję bazową $\\xi_i$ spełniającą $\\xi_i(\\vec{x_j})=\\delta_{ij}$.\n",
    "\n",
    "Ponadto, dla każdego elementu skończonego $e$ dokładnie trzy funkcje bazowe są niezerowe po restrykcji do $\\Omega_e$,  zatem dla każdego $e$ wystarczy rozważyć $a(\\xi_i,\\xi_j)$ dla $i, j \\leq 3$ co daje nam dwie macierze:\n",
    "$$\n",
    "\\begin{align}\n",
    "A_{ij}^e &= \\int_{\\Omega_e}\\xi_i(\\vec{x})\\xi_j(\\vec{x})d\\Omega \\\\\n",
    "&= \\int_T\\Lambda_i(\\phi_e^{-1}(\\vec{y}))\\Lambda_j(\\phi_e^{-1}(\\vec{y}))\\vert\\frac{\\partial\\phi_e}{\\partial y}\\vert dT \\\\\n",
    "&= 2\\Delta_e\\int_{x=0}^1\\int_{y=0}^{1-x}\\Lambda_i(x,y)\\Lambda_j(x,y)dxdy\\\\\n",
    "&= \\frac{\\Delta_e}{12} \n",
    "\\begin{pmatrix}\n",
    "2 & 1 & 1 \\\\\n",
    "1 & 2 & 1 \\\\\n",
    "1 & 1 & 2\n",
    "\\end{pmatrix}\\\\\n",
    "\\\\\n",
    "B_{ij}^e &= \\int_{\\Omega_e}\\nabla\\xi_i(\\vec{x})\\cdot\\nabla\\xi_j(\\vec{x})d\\Omega \\\\\n",
    "&= 2\\Delta_e\\int_T \\nabla\\Lambda_i\\cdot \\nabla\\Lambda_j d\\Omega \\\\\n",
    "&= \\Delta_e\n",
    "\\begin{pmatrix}\n",
    "2 & -1 & -1 \\\\\n",
    "-1 & 1 & 0 \\\\\n",
    "-1 & 0 & 1\n",
    "\\end{pmatrix}\n",
    "\\end{align}\n",
    "$$\n",
    "gdzie $\\Delta_e = \\frac{1}{2}\\vert\\det(M_e)\\vert$ jest polem trójkąta $\\Omega_e$. Otrzymujemy:\n",
    "$$\n",
    "\\begin{align}\n",
    "K_{ij}^e &= a(\\xi_i,\\xi_j) = A^e + \\tau B^e \\\\\n",
    "F_j^e &= l_{n+1}(\\xi_j) = A^e(u^n+f^{n+1})_e\n",
    "\\end{align}\n",
    "$$\n",
    "gdzie $$(u^n+f^{n+1})_e = \n",
    "\\begin{pmatrix}u^n_{id(i)}+f^{n+1}_{id(i)} \\\\ u^n_{id(j)}+f^{n+1}_{id(j)} \\\\ u^n_{id(k)}+f^{n+1}_{id(k)}\\end{pmatrix}$$\n",
    "przy czym $id(i)$ jest globalną współrzędną wierzchołka $i$ ($i\\leq 3)$ a $f^n_i=f(\\vec{x_i},t_n)$.\n",
    "\n",
    "\n",
    "Niech $u=\\sum_i u_i\\xi_i$ będzie naszym rozwiązaniem. Wtedy\n",
    "$$\\sum_e K^e\\vec{u}_e= \\sum_e F^e_{n+1}$$\n",
    "i układ tych równań możemy zapisać w postaci równania $$K\\vec{u} = F_{n+1}$$ którego rozwiązanie da nam $\\vec{u}_i = u(\\vec{x_i},t_{n+1})$.\n",
    "\n",
    "\n"
   ]
  },
  {
   "cell_type": "code",
   "execution_count": 1,
   "metadata": {
    "id": "mKitfqN9AN0R"
   },
   "outputs": [],
   "source": [
    "import matplotlib.pyplot as plt\n",
    "plt.style.use('dark_background')\n",
    "import matplotlib.tri as tri\n",
    "\n",
    "import numpy as np\n",
    "\n",
    "#%matplotlib inline"
   ]
  },
  {
   "cell_type": "code",
   "execution_count": null,
   "metadata": {
    "id": "DNoINhEY3wSI"
   },
   "outputs": [],
   "source": []
  },
  {
   "cell_type": "code",
   "execution_count": 2,
   "metadata": {},
   "outputs": [],
   "source": [
    "class Setup:\n",
    "    def __init__(self, nodes, boundary_nodes, elements, f, g, t_range = (0.0, 1.0), dt = 0.1, output_freq: int = 100):\n",
    "        self.nodes = np.array(nodes)\n",
    "        self.boundary_nodes = np.array(boundary_nodes)\n",
    "        self.elements = np.array(elements)\n",
    "        \n",
    "        self.t_range = t_range\n",
    "        self.t_num = round((self.t_range[1] - self.t_range[0]) / dt) + 1\n",
    "        self.output_freq = output_freq\n",
    "        self.T, self.dt = np.linspace(*self.t_range, self.t_num, retstep=True)\n",
    "        \n",
    "        self.f = f\n",
    "        self.g = g\n",
    "\n",
    "def find_boundary_nodes(elements):\n",
    "    edges = {}\n",
    "    for e_id in range(len(elements)):\n",
    "        e = elements[e_id]\n",
    "        for i in range(len(e)):\n",
    "            node_i = e[i]\n",
    "            for j in range(i+1,len(e)):\n",
    "                node_j = e[j]\n",
    "                key = (min(node_i,node_j), max(node_i,node_j))\n",
    "                if key in edges: edges[key] += 1\n",
    "                else: edges[key] = 1\n",
    "\n",
    "    boundary_nodes = []\n",
    "    for (i,j) in edges:\n",
    "        if edges[(i,j)] == 1:\n",
    "            if i not in boundary_nodes: boundary_nodes.append(i)\n",
    "            if j not in boundary_nodes: boundary_nodes.append(j)\n",
    "    return boundary_nodes"
   ]
  },
  {
   "cell_type": "code",
   "execution_count": 5,
   "metadata": {},
   "outputs": [
    {
     "name": "stdout",
     "output_type": "stream",
     "text": [
      "You're using a premium feature of meshplex (Meshes with more than 100 points) for which a MeshPro license is required. See https://github.com/meshpro for details.\n",
      "\n"
     ]
    },
    {
     "data": {
      "text/html": [
       "<pre style=\"white-space:pre;overflow-x:auto;line-height:normal;font-family:Menlo,'DejaVu Sans Mono',consolas,'Courier New',monospace\">\n",
       "<span style=\"color: #800000; text-decoration-color: #800000\">Error: Unable to find valid license for MeshPro. </span>\n",
       "\n",
       "<span style=\"color: #800000; text-decoration-color: #800000\">Add a license with</span>\n",
       "\n",
       "<span style=\"color: #800000; text-decoration-color: #800000\">    plm add &lt;your-license-key&gt;</span>\n",
       "\n",
       "</pre>\n"
      ],
      "text/plain": [
       "\n",
       "\u001b[31mError: Unable to find valid license for MeshPro. \u001b[0m\n",
       "\n",
       "\u001b[31mAdd a license with\u001b[0m\n",
       "\n",
       "\u001b[31m    plm add <your-license-key>\u001b[0m\n",
       "\n"
      ]
     },
     "metadata": {},
     "output_type": "display_data"
    },
    {
     "ename": "AttributeError",
     "evalue": "'tuple' object has no attribute 'tb_frame'",
     "output_type": "error",
     "traceback": [
      "\u001b[0;31m---------------------------------------------------------------------------\u001b[0m",
      "\u001b[0;31m_r45nv\u001b[0m                                    Traceback (most recent call last)",
      "File \u001b[0;32m<string>:18\u001b[0m, in \u001b[0;36m_WJmAE\u001b[0;34m(which)\u001b[0m\n",
      "File \u001b[0;32m<string>:3\u001b[0m, in \u001b[0;36mwrapper\u001b[0;34m(*args, **kwargs)\u001b[0m\n",
      "File \u001b[0;32m<string>:671\u001b[0m, in \u001b[0;36m_iJQI3\u001b[0;34m(product_name, account_id, product_id, keygen_verify_key)\u001b[0m\n",
      "\u001b[0;31m_r45nv\u001b[0m: Unable to find valid license for MeshPro. \n\nAdd a license with\n\n    plm add <your-license-key>\n",
      "\nDuring handling of the above exception, another exception occurred:\n",
      "\u001b[0;31mSystemExit\u001b[0m                                Traceback (most recent call last)",
      "    \u001b[0;31m[... skipping hidden 1 frame]\u001b[0m\n",
      "Cell \u001b[0;32mIn[5], line 13\u001b[0m\n\u001b[1;32m     12\u001b[0m \u001b[38;5;66;03m#geo = r - c\u001b[39;00m\n\u001b[0;32m---> 13\u001b[0m nodes, elements \u001b[38;5;241m=\u001b[39m \u001b[43mdmsh\u001b[49m\u001b[38;5;241;43m.\u001b[39;49m\u001b[43mgenerate\u001b[49m\u001b[43m(\u001b[49m\u001b[43mgeo\u001b[49m\u001b[43m,\u001b[49m\u001b[43m \u001b[49m\u001b[38;5;241;43m0.05\u001b[39;49m\u001b[43m)\u001b[49m\n\u001b[1;32m     15\u001b[0m dmsh\u001b[38;5;241m.\u001b[39mhelpers\u001b[38;5;241m.\u001b[39mshow(nodes, elements, geo)\n",
      "File \u001b[0;32m<string>:3\u001b[0m, in \u001b[0;36mwrapper\u001b[0;34m(*args, **kwargs)\u001b[0m\n",
      "File \u001b[0;32m<string>:688\u001b[0m, in \u001b[0;36m_yq5b0\u001b[0;34m(geo, target_edge_length, tol, random_seed, show, max_steps, verbose, flip_tol)\u001b[0m\n",
      "File \u001b[0;32m<string>:881\u001b[0m, in \u001b[0;36m__init__\u001b[0;34m(self, points, cells, sort_cells)\u001b[0m\n",
      "File \u001b[0;32m<string>:51\u001b[0m, in \u001b[0;36m__init__\u001b[0;34m(self, points, cells, sort_cells)\u001b[0m\n",
      "File \u001b[0;32m<string>:3\u001b[0m, in \u001b[0;36mwrapper\u001b[0;34m(*args, **kwargs)\u001b[0m\n",
      "File \u001b[0;32m<string>:22\u001b[0m, in \u001b[0;36m_WJmAE\u001b[0;34m(which)\u001b[0m\n",
      "\u001b[0;31mSystemExit\u001b[0m: 1",
      "\nDuring handling of the above exception, another exception occurred:\n",
      "\u001b[0;31mAttributeError\u001b[0m                            Traceback (most recent call last)",
      "    \u001b[0;31m[... skipping hidden 1 frame]\u001b[0m\n",
      "File \u001b[0;32m~/.conda/envs/math/lib/python3.11/site-packages/IPython/core/interactiveshell.py:2097\u001b[0m, in \u001b[0;36mInteractiveShell.showtraceback\u001b[0;34m(self, exc_tuple, filename, tb_offset, exception_only, running_compiled_code)\u001b[0m\n\u001b[1;32m   2094\u001b[0m \u001b[38;5;28;01mif\u001b[39;00m exception_only:\n\u001b[1;32m   2095\u001b[0m     stb \u001b[38;5;241m=\u001b[39m [\u001b[38;5;124m'\u001b[39m\u001b[38;5;124mAn exception has occurred, use \u001b[39m\u001b[38;5;124m%\u001b[39m\u001b[38;5;124mtb to see \u001b[39m\u001b[38;5;124m'\u001b[39m\n\u001b[1;32m   2096\u001b[0m            \u001b[38;5;124m'\u001b[39m\u001b[38;5;124mthe full traceback.\u001b[39m\u001b[38;5;130;01m\\n\u001b[39;00m\u001b[38;5;124m'\u001b[39m]\n\u001b[0;32m-> 2097\u001b[0m     stb\u001b[38;5;241m.\u001b[39mextend(\u001b[38;5;28;43mself\u001b[39;49m\u001b[38;5;241;43m.\u001b[39;49m\u001b[43mInteractiveTB\u001b[49m\u001b[38;5;241;43m.\u001b[39;49m\u001b[43mget_exception_only\u001b[49m\u001b[43m(\u001b[49m\u001b[43metype\u001b[49m\u001b[43m,\u001b[49m\n\u001b[1;32m   2098\u001b[0m \u001b[43m                                                     \u001b[49m\u001b[43mvalue\u001b[49m\u001b[43m)\u001b[49m)\n\u001b[1;32m   2099\u001b[0m \u001b[38;5;28;01melse\u001b[39;00m:\n\u001b[1;32m   2101\u001b[0m     \u001b[38;5;28;01mdef\u001b[39;00m \u001b[38;5;21mcontains_exceptiongroup\u001b[39m(val):\n",
      "File \u001b[0;32m~/.conda/envs/math/lib/python3.11/site-packages/IPython/core/ultratb.py:710\u001b[0m, in \u001b[0;36mListTB.get_exception_only\u001b[0;34m(self, etype, value)\u001b[0m\n\u001b[1;32m    702\u001b[0m \u001b[38;5;28;01mdef\u001b[39;00m \u001b[38;5;21mget_exception_only\u001b[39m(\u001b[38;5;28mself\u001b[39m, etype, value):\n\u001b[1;32m    703\u001b[0m \u001b[38;5;250m    \u001b[39m\u001b[38;5;124;03m\"\"\"Only print the exception type and message, without a traceback.\u001b[39;00m\n\u001b[1;32m    704\u001b[0m \n\u001b[1;32m    705\u001b[0m \u001b[38;5;124;03m    Parameters\u001b[39;00m\n\u001b[0;32m   (...)\u001b[0m\n\u001b[1;32m    708\u001b[0m \u001b[38;5;124;03m    value : exception value\u001b[39;00m\n\u001b[1;32m    709\u001b[0m \u001b[38;5;124;03m    \"\"\"\u001b[39;00m\n\u001b[0;32m--> 710\u001b[0m     \u001b[38;5;28;01mreturn\u001b[39;00m \u001b[43mListTB\u001b[49m\u001b[38;5;241;43m.\u001b[39;49m\u001b[43mstructured_traceback\u001b[49m\u001b[43m(\u001b[49m\u001b[38;5;28;43mself\u001b[39;49m\u001b[43m,\u001b[49m\u001b[43m \u001b[49m\u001b[43metype\u001b[49m\u001b[43m,\u001b[49m\u001b[43m \u001b[49m\u001b[43mvalue\u001b[49m\u001b[43m)\u001b[49m\n",
      "File \u001b[0;32m~/.conda/envs/math/lib/python3.11/site-packages/IPython/core/ultratb.py:568\u001b[0m, in \u001b[0;36mListTB.structured_traceback\u001b[0;34m(self, etype, evalue, etb, tb_offset, context)\u001b[0m\n\u001b[1;32m    565\u001b[0m     chained_exc_ids\u001b[38;5;241m.\u001b[39madd(\u001b[38;5;28mid\u001b[39m(exception[\u001b[38;5;241m1\u001b[39m]))\n\u001b[1;32m    566\u001b[0m     chained_exceptions_tb_offset \u001b[38;5;241m=\u001b[39m \u001b[38;5;241m0\u001b[39m\n\u001b[1;32m    567\u001b[0m     out_list \u001b[38;5;241m=\u001b[39m (\n\u001b[0;32m--> 568\u001b[0m         \u001b[38;5;28;43mself\u001b[39;49m\u001b[38;5;241;43m.\u001b[39;49m\u001b[43mstructured_traceback\u001b[49m\u001b[43m(\u001b[49m\n\u001b[1;32m    569\u001b[0m \u001b[43m            \u001b[49m\u001b[43metype\u001b[49m\u001b[43m,\u001b[49m\n\u001b[1;32m    570\u001b[0m \u001b[43m            \u001b[49m\u001b[43mevalue\u001b[49m\u001b[43m,\u001b[49m\n\u001b[1;32m    571\u001b[0m \u001b[43m            \u001b[49m\u001b[43m(\u001b[49m\u001b[43metb\u001b[49m\u001b[43m,\u001b[49m\u001b[43m \u001b[49m\u001b[43mchained_exc_ids\u001b[49m\u001b[43m)\u001b[49m\u001b[43m,\u001b[49m\u001b[43m  \u001b[49m\u001b[38;5;66;43;03m# type: ignore\u001b[39;49;00m\n\u001b[1;32m    572\u001b[0m \u001b[43m            \u001b[49m\u001b[43mchained_exceptions_tb_offset\u001b[49m\u001b[43m,\u001b[49m\n\u001b[1;32m    573\u001b[0m \u001b[43m            \u001b[49m\u001b[43mcontext\u001b[49m\u001b[43m,\u001b[49m\n\u001b[1;32m    574\u001b[0m \u001b[43m        \u001b[49m\u001b[43m)\u001b[49m\n\u001b[1;32m    575\u001b[0m         \u001b[38;5;241m+\u001b[39m chained_exception_message\n\u001b[1;32m    576\u001b[0m         \u001b[38;5;241m+\u001b[39m out_list)\n\u001b[1;32m    578\u001b[0m \u001b[38;5;28;01mreturn\u001b[39;00m out_list\n",
      "File \u001b[0;32m~/.conda/envs/math/lib/python3.11/site-packages/IPython/core/ultratb.py:1435\u001b[0m, in \u001b[0;36mAutoFormattedTB.structured_traceback\u001b[0;34m(self, etype, evalue, etb, tb_offset, number_of_lines_of_context)\u001b[0m\n\u001b[1;32m   1433\u001b[0m \u001b[38;5;28;01melse\u001b[39;00m:\n\u001b[1;32m   1434\u001b[0m     \u001b[38;5;28mself\u001b[39m\u001b[38;5;241m.\u001b[39mtb \u001b[38;5;241m=\u001b[39m etb\n\u001b[0;32m-> 1435\u001b[0m \u001b[38;5;28;01mreturn\u001b[39;00m \u001b[43mFormattedTB\u001b[49m\u001b[38;5;241;43m.\u001b[39;49m\u001b[43mstructured_traceback\u001b[49m\u001b[43m(\u001b[49m\n\u001b[1;32m   1436\u001b[0m \u001b[43m    \u001b[49m\u001b[38;5;28;43mself\u001b[39;49m\u001b[43m,\u001b[49m\u001b[43m \u001b[49m\u001b[43metype\u001b[49m\u001b[43m,\u001b[49m\u001b[43m \u001b[49m\u001b[43mevalue\u001b[49m\u001b[43m,\u001b[49m\u001b[43m \u001b[49m\u001b[43metb\u001b[49m\u001b[43m,\u001b[49m\u001b[43m \u001b[49m\u001b[43mtb_offset\u001b[49m\u001b[43m,\u001b[49m\u001b[43m \u001b[49m\u001b[43mnumber_of_lines_of_context\u001b[49m\n\u001b[1;32m   1437\u001b[0m \u001b[43m\u001b[49m\u001b[43m)\u001b[49m\n",
      "File \u001b[0;32m~/.conda/envs/math/lib/python3.11/site-packages/IPython/core/ultratb.py:1326\u001b[0m, in \u001b[0;36mFormattedTB.structured_traceback\u001b[0;34m(self, etype, value, tb, tb_offset, number_of_lines_of_context)\u001b[0m\n\u001b[1;32m   1323\u001b[0m mode \u001b[38;5;241m=\u001b[39m \u001b[38;5;28mself\u001b[39m\u001b[38;5;241m.\u001b[39mmode\n\u001b[1;32m   1324\u001b[0m \u001b[38;5;28;01mif\u001b[39;00m mode \u001b[38;5;129;01min\u001b[39;00m \u001b[38;5;28mself\u001b[39m\u001b[38;5;241m.\u001b[39mverbose_modes:\n\u001b[1;32m   1325\u001b[0m     \u001b[38;5;66;03m# Verbose modes need a full traceback\u001b[39;00m\n\u001b[0;32m-> 1326\u001b[0m     \u001b[38;5;28;01mreturn\u001b[39;00m \u001b[43mVerboseTB\u001b[49m\u001b[38;5;241;43m.\u001b[39;49m\u001b[43mstructured_traceback\u001b[49m\u001b[43m(\u001b[49m\n\u001b[1;32m   1327\u001b[0m \u001b[43m        \u001b[49m\u001b[38;5;28;43mself\u001b[39;49m\u001b[43m,\u001b[49m\u001b[43m \u001b[49m\u001b[43metype\u001b[49m\u001b[43m,\u001b[49m\u001b[43m \u001b[49m\u001b[43mvalue\u001b[49m\u001b[43m,\u001b[49m\u001b[43m \u001b[49m\u001b[43mtb\u001b[49m\u001b[43m,\u001b[49m\u001b[43m \u001b[49m\u001b[43mtb_offset\u001b[49m\u001b[43m,\u001b[49m\u001b[43m \u001b[49m\u001b[43mnumber_of_lines_of_context\u001b[49m\n\u001b[1;32m   1328\u001b[0m \u001b[43m    \u001b[49m\u001b[43m)\u001b[49m\n\u001b[1;32m   1329\u001b[0m \u001b[38;5;28;01melif\u001b[39;00m mode \u001b[38;5;241m==\u001b[39m \u001b[38;5;124m'\u001b[39m\u001b[38;5;124mMinimal\u001b[39m\u001b[38;5;124m'\u001b[39m:\n\u001b[1;32m   1330\u001b[0m     \u001b[38;5;28;01mreturn\u001b[39;00m ListTB\u001b[38;5;241m.\u001b[39mget_exception_only(\u001b[38;5;28mself\u001b[39m, etype, value)\n",
      "File \u001b[0;32m~/.conda/envs/math/lib/python3.11/site-packages/IPython/core/ultratb.py:1173\u001b[0m, in \u001b[0;36mVerboseTB.structured_traceback\u001b[0;34m(self, etype, evalue, etb, tb_offset, number_of_lines_of_context)\u001b[0m\n\u001b[1;32m   1164\u001b[0m \u001b[38;5;28;01mdef\u001b[39;00m \u001b[38;5;21mstructured_traceback\u001b[39m(\n\u001b[1;32m   1165\u001b[0m     \u001b[38;5;28mself\u001b[39m,\n\u001b[1;32m   1166\u001b[0m     etype: \u001b[38;5;28mtype\u001b[39m,\n\u001b[0;32m   (...)\u001b[0m\n\u001b[1;32m   1170\u001b[0m     number_of_lines_of_context: \u001b[38;5;28mint\u001b[39m \u001b[38;5;241m=\u001b[39m \u001b[38;5;241m5\u001b[39m,\n\u001b[1;32m   1171\u001b[0m ):\n\u001b[1;32m   1172\u001b[0m \u001b[38;5;250m    \u001b[39m\u001b[38;5;124;03m\"\"\"Return a nice text document describing the traceback.\"\"\"\u001b[39;00m\n\u001b[0;32m-> 1173\u001b[0m     formatted_exception \u001b[38;5;241m=\u001b[39m \u001b[38;5;28;43mself\u001b[39;49m\u001b[38;5;241;43m.\u001b[39;49m\u001b[43mformat_exception_as_a_whole\u001b[49m\u001b[43m(\u001b[49m\u001b[43metype\u001b[49m\u001b[43m,\u001b[49m\u001b[43m \u001b[49m\u001b[43mevalue\u001b[49m\u001b[43m,\u001b[49m\u001b[43m \u001b[49m\u001b[43metb\u001b[49m\u001b[43m,\u001b[49m\u001b[43m \u001b[49m\u001b[43mnumber_of_lines_of_context\u001b[49m\u001b[43m,\u001b[49m\n\u001b[1;32m   1174\u001b[0m \u001b[43m                                                           \u001b[49m\u001b[43mtb_offset\u001b[49m\u001b[43m)\u001b[49m\n\u001b[1;32m   1176\u001b[0m     colors \u001b[38;5;241m=\u001b[39m \u001b[38;5;28mself\u001b[39m\u001b[38;5;241m.\u001b[39mColors  \u001b[38;5;66;03m# just a shorthand + quicker name lookup\u001b[39;00m\n\u001b[1;32m   1177\u001b[0m     colorsnormal \u001b[38;5;241m=\u001b[39m colors\u001b[38;5;241m.\u001b[39mNormal  \u001b[38;5;66;03m# used a lot\u001b[39;00m\n",
      "File \u001b[0;32m~/.conda/envs/math/lib/python3.11/site-packages/IPython/core/ultratb.py:1063\u001b[0m, in \u001b[0;36mVerboseTB.format_exception_as_a_whole\u001b[0;34m(self, etype, evalue, etb, number_of_lines_of_context, tb_offset)\u001b[0m\n\u001b[1;32m   1060\u001b[0m \u001b[38;5;28;01massert\u001b[39;00m \u001b[38;5;28misinstance\u001b[39m(tb_offset, \u001b[38;5;28mint\u001b[39m)\n\u001b[1;32m   1061\u001b[0m head \u001b[38;5;241m=\u001b[39m \u001b[38;5;28mself\u001b[39m\u001b[38;5;241m.\u001b[39mprepare_header(\u001b[38;5;28mstr\u001b[39m(etype), \u001b[38;5;28mself\u001b[39m\u001b[38;5;241m.\u001b[39mlong_header)\n\u001b[1;32m   1062\u001b[0m records \u001b[38;5;241m=\u001b[39m (\n\u001b[0;32m-> 1063\u001b[0m     \u001b[38;5;28;43mself\u001b[39;49m\u001b[38;5;241;43m.\u001b[39;49m\u001b[43mget_records\u001b[49m\u001b[43m(\u001b[49m\u001b[43metb\u001b[49m\u001b[43m,\u001b[49m\u001b[43m \u001b[49m\u001b[43mnumber_of_lines_of_context\u001b[49m\u001b[43m,\u001b[49m\u001b[43m \u001b[49m\u001b[43mtb_offset\u001b[49m\u001b[43m)\u001b[49m \u001b[38;5;28;01mif\u001b[39;00m etb \u001b[38;5;28;01melse\u001b[39;00m []\n\u001b[1;32m   1064\u001b[0m )\n\u001b[1;32m   1066\u001b[0m frames \u001b[38;5;241m=\u001b[39m []\n\u001b[1;32m   1067\u001b[0m skipped \u001b[38;5;241m=\u001b[39m \u001b[38;5;241m0\u001b[39m\n",
      "File \u001b[0;32m~/.conda/envs/math/lib/python3.11/site-packages/IPython/core/ultratb.py:1131\u001b[0m, in \u001b[0;36mVerboseTB.get_records\u001b[0;34m(self, etb, number_of_lines_of_context, tb_offset)\u001b[0m\n\u001b[1;32m   1129\u001b[0m \u001b[38;5;28;01mwhile\u001b[39;00m cf \u001b[38;5;129;01mis\u001b[39;00m \u001b[38;5;129;01mnot\u001b[39;00m \u001b[38;5;28;01mNone\u001b[39;00m:\n\u001b[1;32m   1130\u001b[0m     \u001b[38;5;28;01mtry\u001b[39;00m:\n\u001b[0;32m-> 1131\u001b[0m         mod \u001b[38;5;241m=\u001b[39m inspect\u001b[38;5;241m.\u001b[39mgetmodule(\u001b[43mcf\u001b[49m\u001b[38;5;241;43m.\u001b[39;49m\u001b[43mtb_frame\u001b[49m)\n\u001b[1;32m   1132\u001b[0m         \u001b[38;5;28;01mif\u001b[39;00m mod \u001b[38;5;129;01mis\u001b[39;00m \u001b[38;5;129;01mnot\u001b[39;00m \u001b[38;5;28;01mNone\u001b[39;00m:\n\u001b[1;32m   1133\u001b[0m             mod_name \u001b[38;5;241m=\u001b[39m mod\u001b[38;5;241m.\u001b[39m\u001b[38;5;18m__name__\u001b[39m\n",
      "\u001b[0;31mAttributeError\u001b[0m: 'tuple' object has no attribute 'tb_frame'"
     ]
    }
   ],
   "source": [
    "import dmsh\n",
    "import meshio\n",
    "import optimesh\n",
    "\n",
    "r = dmsh.Rectangle(0.0, 1.2, 0.0, 0.6)\n",
    "c = dmsh.Circle([0.6, 0.0], 0.3)\n",
    "c1 = dmsh.Circle([0.15,0.15], 0.05)\n",
    "c2 = dmsh.Circle([1.05,0.15], 0.1)\n",
    "c3 = dmsh.Circle([0.15,0.45], 0.05)\n",
    "c4 = dmsh.Circle([1.05,0.45], 0.05)\n",
    "geo = r - (c + c1 + c2 + c3 + c4)\n",
    "#geo = r - c\n",
    "nodes, elements = dmsh.generate(geo, 0.05)\n",
    "\n",
    "dmsh.helpers.show(nodes, elements, geo)"
   ]
  },
  {
   "cell_type": "markdown",
   "metadata": {},
   "source": [
    "Zanurzamy obiekt na 20 sekund w jakiejś cieczy o temperaturze spadającej liniowo od 1 do 0 w ciągu 10 sekund i zostającej na 0 przez resztę czasu."
   ]
  },
  {
   "cell_type": "code",
   "execution_count": null,
   "metadata": {
    "id": "8yBo-pPnAh87"
   },
   "outputs": [],
   "source": [
    "dt = 1/24\n",
    "output_freq = 1\n",
    "t_range = (0.0, 20.0)\n",
    "\n",
    "F = lambda x,y,t: 0\n",
    "\n",
    "# dirichlet\n",
    "G = lambda x,y,t: 1-t/10 if t < 10 else 0\n",
    "\n",
    "boundary_nodes = find_boundary_nodes(elements)\n",
    "setup = Setup(nodes, boundary_nodes, elements, F, G, t_range, dt, output_freq)"
   ]
  },
  {
   "cell_type": "code",
   "execution_count": null,
   "metadata": {
    "id": "mgD7vT9oB5Nc"
   },
   "outputs": [],
   "source": [
    "DIMENSION_DOMAIN = 2\n",
    "NODES_PER_ELEMENT = 3"
   ]
  },
  {
   "cell_type": "code",
   "execution_count": null,
   "metadata": {
    "id": "MO_xLEFzCKYc"
   },
   "outputs": [],
   "source": [
    "global_size = len(setup.nodes)\n",
    "ID = np.arange(global_size).reshape(-1, 1)"
   ]
  },
  {
   "cell_type": "code",
   "execution_count": null,
   "metadata": {
    "id": "r4fktZM2cszX"
   },
   "outputs": [],
   "source": [
    "class FiniteElement:\n",
    "    size = NODES_PER_ELEMENT\n",
    "    \n",
    "    def __init__(self, e, setup, rhs):\n",
    "        self.setup = setup\n",
    "        self.rhs = rhs\n",
    "        self.eq_ids = np.zeros(FiniteElement.size)\n",
    "        self.coord = np.zeros((NODES_PER_ELEMENT, DIMENSION_DOMAIN))\n",
    "        self.node_ids = np.zeros(NODES_PER_ELEMENT)\n",
    "        z = 0\n",
    "        for j in range(NODES_PER_ELEMENT):\n",
    "            J = int(setup.elements[e, j])\n",
    "            self.eq_ids[j] = ID[J, 0]\n",
    "            self.coord[j] = setup.nodes[J]\n",
    "            self.node_ids[j] = J\n",
    "            \n",
    "        self.A, self.B = self.make_integrals()\n",
    "        self.K, self.F = self.make_stiffness_matrix()\n",
    "\n",
    "    def make_integrals(self):\n",
    "        i = 0; j = 1; k = 2\n",
    "        x = 0; y = 1\n",
    "        \n",
    "        coord = self.coord\n",
    "        cj = coord[j, x] - coord[i, x]\n",
    "        ck = coord[k, x] - coord[i, x]\n",
    "\n",
    "        bj = coord[j, y] - coord[i, y]\n",
    "        bk = coord[k, y] - coord[i, y]\n",
    "\n",
    "        detM = abs(ck * bj - cj * bk)\n",
    "        area = detM / 2\n",
    "        \n",
    "        A = (area/12) * np.array([\n",
    "            [2, 1, 1],\n",
    "            [1, 2, 1],\n",
    "            [1, 1, 2]\n",
    "        ])\n",
    "        \n",
    "        B = area * np.array([\n",
    "            [2, -1, -1],\n",
    "            [-1, 1, 0],\n",
    "            [-1, 0, 1]\n",
    "        ])\n",
    "        return A, B\n",
    "\n",
    "    def make_stiffness_matrix(self):\n",
    "        dt = self.setup.dt\n",
    "        coord = self.coord\n",
    "\n",
    "        Ke = self.A + dt*self.B\n",
    "        we = np.array([self.rhs[int(node_id)] for node_id in self.node_ids])\n",
    "        Fe = self.A.dot(we)\n",
    "        return Ke, Fe"
   ]
  },
  {
   "cell_type": "code",
   "execution_count": null,
   "metadata": {},
   "outputs": [],
   "source": [
    "def solve(setup, dirichlet, u, f):\n",
    "    K = np.zeros((global_size, global_size))\n",
    "    F = np.zeros((global_size, 1))\n",
    "\n",
    "    rhs = u + setup.dt * f\n",
    "    for e in range(len(setup.elements)):\n",
    "        element = FiniteElement(e, setup, rhs)\n",
    "\n",
    "        for i in range(FiniteElement.size):\n",
    "            I = int(element.eq_ids[i])\n",
    "            for j in range(FiniteElement.size):\n",
    "                J = int(element.eq_ids[j])  \n",
    "                # Adds element matrix K to global matrix K\n",
    "                K[I, J] += element.K[i,j]\n",
    "            # Adds load element vector F in F\n",
    "            F[I] += element.F[i]\n",
    "            \n",
    "    # Dirichlet\n",
    "    for node, value in dirichlet:    \n",
    "        i = ID[int(node), 0]  # >_<\n",
    "        F[:, 0] = F[:, 0] - value * K[:, i]\n",
    "        K[i, :] = 0.0\n",
    "        K[:, i] = 0.0\n",
    "        K[i, i] = 1.0\n",
    "        F[i] = value\n",
    "        \n",
    "    return np.squeeze(np.linalg.solve(K, F).reshape(len(setup.nodes), 1))"
   ]
  },
  {
   "cell_type": "code",
   "execution_count": null,
   "metadata": {},
   "outputs": [],
   "source": [
    "%%time\n",
    "\n",
    "u_matrix = np.zeros((len(setup.nodes), setup.t_num // setup.output_freq))\n",
    "\n",
    "u = np.zeros(len(setup.nodes))\n",
    "for node in setup.boundary_nodes:\n",
    "    x,y = setup.nodes[node]\n",
    "    value = setup.g(x,y,setup.T[0])\n",
    "    u[node] = value\n",
    "\n",
    "u_matrix[:,0] = u\n",
    "\n",
    "for t in range(1, (setup.t_num // setup.output_freq) * setup.output_freq):\n",
    "    fn = np.array([setup.f(xi, yi, setup.T[t]) for (xi, yi) in setup.nodes])\n",
    "    dirichlet = []\n",
    "    for node in setup.boundary_nodes:\n",
    "        x,y = setup.nodes[node]\n",
    "        value = setup.g(x,y,setup.T[t])\n",
    "        dirichlet.append([node, value])\n",
    "        \n",
    "    u = solve(setup, dirichlet, u, fn)\n",
    "    if t % setup.output_freq == 0:\n",
    "        u_matrix[:, t // setup.output_freq] = u"
   ]
  },
  {
   "cell_type": "code",
   "execution_count": null,
   "metadata": {},
   "outputs": [],
   "source": [
    "fig = plt.figure()\n",
    "ax = plt.subplot(111)\n",
    "txt_title = ax.set_title('')\n",
    "plt.gca().set_aspect('equal')\n",
    "field = ax.tripcolor(nodes[:, 0], nodes[:,1], elements, u_matrix[:,0], shading='gouraud')\n",
    "fig.colorbar(field)\n",
    "#plt.show()"
   ]
  },
  {
   "cell_type": "code",
   "execution_count": null,
   "metadata": {},
   "outputs": [],
   "source": [
    "from matplotlib.animation import FuncAnimation\n",
    "from IPython.display import HTML\n",
    "\n",
    "def update_tripcolor(frame_number):\n",
    "    field.set_array(u_matrix[:,frame_number])\n",
    "    txt_title.set_text('t = {0:.4f}'.format(setup.T[setup.output_freq*frame_number]))\n",
    "\n",
    "anim = FuncAnimation(fig, update_tripcolor, interval=1000*dt*setup.output_freq, frames=len(u_matrix[0,:]))\n",
    "HTML(anim.to_jshtml())\n"
   ]
  },
  {
   "cell_type": "code",
   "execution_count": null,
   "metadata": {},
   "outputs": [],
   "source": []
  }
 ],
 "metadata": {
  "colab": {
   "collapsed_sections": [],
   "name": "FEM MESH.ipynb",
   "provenance": []
  },
  "kernelspec": {
   "display_name": "Python 3 (ipykernel)",
   "language": "python",
   "name": "python3"
  },
  "language_info": {
   "codemirror_mode": {
    "name": "ipython",
    "version": 3
   },
   "file_extension": ".py",
   "mimetype": "text/x-python",
   "name": "python",
   "nbconvert_exporter": "python",
   "pygments_lexer": "ipython3",
   "version": "3.12.4"
  }
 },
 "nbformat": 4,
 "nbformat_minor": 4
}
