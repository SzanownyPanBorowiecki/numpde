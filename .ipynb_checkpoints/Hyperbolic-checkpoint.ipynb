{
 "cells": [
  {
   "cell_type": "markdown",
   "metadata": {
    "id": "Qd8n32T1gmrt"
   },
   "source": [
    "## Numeryczne Rozwiązywanie Rónań Różniczkowych Cząstkowych\n",
    "### Uniwersytet Jagielloński 2021\n",
    "Katedra Teorii Optymalizacji i Sterowania UJ"
   ]
  },
  {
   "cell_type": "markdown",
   "metadata": {
    "id": "hm-dOgnSgngP"
   },
   "source": [
    "# Metoda różnic skończonych\n",
    "\n",
    "## Laboratorium III\n",
    "### Równanie hiperboliczne\n",
    "\n",
    "$$ u_{tt} = u_{xx} \\,\\,\\,\\,\\,\\, x \\in (0, 1), \\,\\,\\,\\, t > 0 $$\n",
    "\n",
    "$$ u(t, 0) = u(t, 1) = 0 \\,\\,\\,\\,\\,\\, t>0 $$\n",
    "\n",
    "$$ u(0, x) = \\frac{1}{8}\\sin(\\pi x) \\,\\,\\,\\,\\,\\, x \\in [0, 1] $$\n",
    "\n",
    "$$ u_{t}(0, x) = 0 \\,\\,\\,\\,\\,\\, x \\in [0, 1] $$\n",
    "\n",
    "Rozwiązanie dokładne: $$ u(t, x) = \\frac{1}{8}\\sin(\\pi x)\\cos(\\pi t) $$"
   ]
  },
  {
   "cell_type": "code",
   "execution_count": 1,
   "metadata": {
    "id": "az9HvWTaghOl"
   },
   "outputs": [],
   "source": [
    "import numpy as np\n",
    "import scipy as sc\n",
    "import scipy.sparse.linalg\n",
    "from mpl_toolkits.mplot3d import Axes3D\n",
    "import matplotlib.pyplot as plt\n",
    "from matplotlib import cm\n",
    "from matplotlib.ticker import LinearLocator, FormatStrFormatter\n",
    "from scipy.sparse import lil_matrix, csr_matrix\n",
    "from typing import Optional\n",
    "import time"
   ]
  },
  {
   "cell_type": "code",
   "execution_count": 2,
   "metadata": {
    "id": "8a-4-KYjg24k"
   },
   "outputs": [],
   "source": [
    "class SetupHyperbolic:\n",
    "    def __init__(self, \n",
    "                 dx: float, \n",
    "                 dt: Optional[float] = None,\n",
    "                 output_freq: Optional[int] = 10,\n",
    "                 alpha: float = 0.5\n",
    "                 ):\n",
    "        self.x_range = (0.0, 1.0)\n",
    "        self.t_range = (0.0, 2.0)\n",
    "        self.boundary_condition = (lambda t: 0.0, lambda t: 0.0)\n",
    "\n",
    "        self.alpha = alpha \n",
    "        dt = dt or dx ** 2\n",
    "        # There are 2 hard problems in computer science:\n",
    "        # cache invalidation, naming things, and off-by-1 errors.\n",
    "        self.x_num = round((self.x_range[1] - self.x_range[0]) / dx) + 1\n",
    "        self.t_num = round((self.t_range[1] - self.t_range[0]) / dt) + 1\n",
    "\n",
    "        self.X, self.dx = np.linspace(*self.x_range, self.x_num, retstep=True)\n",
    "        self.T, self.dt = np.linspace(*self.t_range, self.t_num, retstep=True)\n",
    "        \n",
    "        self.output_freq = output_freq\n",
    "\n",
    "    @staticmethod\n",
    "    def initial(x):\n",
    "        return 0.125 * np.sin(np.pi * x)\n",
    "\n",
    "    @staticmethod\n",
    "    def initial_der(x):\n",
    "        return 0\n",
    "\n",
    "    @staticmethod\n",
    "    def exact(t, x):\n",
    "        return 0.125 * np.sin(np.pi * x) * np.cos(np.pi * t)"
   ]
  },
  {
   "cell_type": "code",
   "execution_count": 3,
   "metadata": {
    "id": "AoQI_YUJg-ir"
   },
   "outputs": [],
   "source": [
    "def create_matrices(setup):\n",
    "    u = np.empty(setup.x_num)\n",
    "    A = None\n",
    "\n",
    "    # TODO\n",
    "\n",
    "    return A, u\n",
    "\n",
    "\n",
    "def create_RH(u, u_prev, setup):\n",
    "    d = np.zeros(setup.x_num - 2)\n",
    "    r = setup.dt ** 2 / setup.dx ** 2\n",
    "\n",
    "    # TODO\n",
    "\n",
    "    return d\n",
    "\n",
    "\n",
    "def fictional(x, setup):\n",
    "    pass\n",
    "\n",
    "\n",
    "def scheme_hyperbolic(setup):\n",
    "    u_matrix = np.zeros((setup.x_num, setup.t_num // setup.output_freq))\n",
    "    A, u = create_matrices(setup)\n",
    "    u_prev = np.zeros_like(u)\n",
    "    for i, xi in enumerate(setup.X):\n",
    "        u_prev[i] = fictional(xi, setup)\n",
    "    for t in range(setup.t_num - 1):\n",
    "        d = create_RH(u, u_prev, setup)\n",
    "\n",
    "        # TODO\n",
    "\n",
    "        if (t-1) % setup.output_freq == 0:\n",
    "            u_matrix[:, (t-1) // setup.output_freq] = u[:]\n",
    "        \n",
    "    return u_matrix"
   ]
  },
  {
   "cell_type": "code",
   "execution_count": 4,
   "metadata": {
    "colab": {
     "base_uri": "https://localhost:8080/"
    },
    "id": "VU4yxvDshDRt",
    "outputId": "19cc4d0a-551c-404b-dd8e-d5e251c65ec4"
   },
   "outputs": [
    {
     "name": "stdout",
     "output_type": "stream",
     "text": [
      "CPU times: user 7.27 ms, sys: 1.81 ms, total: 9.09 ms\n",
      "Wall time: 8.37 ms\n"
     ]
    }
   ],
   "source": [
    "%%time\n",
    "# numerical solution\n",
    "setup_hyperbolic = SetupHyperbolic(0.0001, 0.001)\n",
    "numerical_hyperbolic = scheme_hyperbolic(setup_hyperbolic)"
   ]
  },
  {
   "cell_type": "code",
   "execution_count": 5,
   "metadata": {
    "id": "lMx6u3jhhF2O"
   },
   "outputs": [],
   "source": [
    "def plot_surface(values, setup):\n",
    "    pass # TODO"
   ]
  },
  {
   "cell_type": "code",
   "execution_count": 6,
   "metadata": {
    "id": "6qWw6hwOhN3d"
   },
   "outputs": [],
   "source": [
    "# exact solution\n",
    "X = np.linspace(*setup_hyperbolic.x_range, setup_hyperbolic.x_num)\n",
    "T = np.linspace(*setup_hyperbolic.t_range, setup_hyperbolic.t_num // setup_hyperbolic.output_freq)\n",
    "X, T = np.meshgrid(X, T)\n",
    "exact_hyperbolic = setup_hyperbolic.exact(T, X).T"
   ]
  },
  {
   "cell_type": "code",
   "execution_count": 7,
   "metadata": {
    "colab": {
     "base_uri": "https://localhost:8080/",
     "height": 710
    },
    "id": "JD1ZXOtEhQEW",
    "outputId": "8f29d48f-e378-4f9d-dccd-f5531c155e1d"
   },
   "outputs": [],
   "source": [
    "plot_surface(numerical_hyperbolic, setup_hyperbolic)\n",
    "plot_surface(exact_hyperbolic, setup_hyperbolic)\n",
    "plot_surface(numerical_hyperbolic - exact_hyperbolic, setup_hyperbolic)"
   ]
  },
  {
   "cell_type": "code",
   "execution_count": 8,
   "metadata": {
    "colab": {
     "base_uri": "https://localhost:8080/",
     "height": 338
    },
    "id": "iys536E-hR6Q",
    "outputId": "7c797d4d-4172-49e7-867a-bde440f15dfb"
   },
   "outputs": [
    {
     "ename": "ModuleNotFoundError",
     "evalue": "No module named 'seaborn'",
     "output_type": "error",
     "traceback": [
      "\u001b[0;31m---------------------------------------------------------------------------\u001b[0m",
      "\u001b[0;31mModuleNotFoundError\u001b[0m                       Traceback (most recent call last)",
      "\u001b[0;32m/var/folders/yb/3lxvjcks7132mt8ftscr05vw0000gn/T/ipykernel_35398/1699439187.py\u001b[0m in \u001b[0;36m<module>\u001b[0;34m\u001b[0m\n\u001b[1;32m      3\u001b[0m \u001b[0;32mimport\u001b[0m \u001b[0mnumpy\u001b[0m \u001b[0;32mas\u001b[0m \u001b[0mnp\u001b[0m\u001b[0;34m\u001b[0m\u001b[0;34m\u001b[0m\u001b[0m\n\u001b[1;32m      4\u001b[0m \u001b[0;32mimport\u001b[0m \u001b[0mmatplotlib\u001b[0m\u001b[0;34m.\u001b[0m\u001b[0mpyplot\u001b[0m \u001b[0;32mas\u001b[0m \u001b[0mplt\u001b[0m\u001b[0;34m\u001b[0m\u001b[0;34m\u001b[0m\u001b[0m\n\u001b[0;32m----> 5\u001b[0;31m \u001b[0;32mimport\u001b[0m \u001b[0mseaborn\u001b[0m \u001b[0;32mas\u001b[0m \u001b[0msns\u001b[0m\u001b[0;34m\u001b[0m\u001b[0;34m\u001b[0m\u001b[0m\n\u001b[0m\u001b[1;32m      6\u001b[0m \u001b[0;34m\u001b[0m\u001b[0m\n\u001b[1;32m      7\u001b[0m \u001b[0;31m# create a figure and axes\u001b[0m\u001b[0;34m\u001b[0m\u001b[0;34m\u001b[0m\u001b[0m\n",
      "\u001b[0;31mModuleNotFoundError\u001b[0m: No module named 'seaborn'"
     ]
    }
   ],
   "source": [
    "%matplotlib inline\n",
    "\n",
    "import numpy as np\n",
    "import matplotlib.pyplot as plt\n",
    "import seaborn as sns\n",
    "\n",
    "# create a figure and axes\n",
    "fig = plt.figure(figsize=(6,5))\n",
    "ax1 = plt.subplot(1,1,1)   \n",
    "# ax2 = plt.subplot(1,2,2)\n",
    "\n",
    "# set up the subplots as needed\n",
    "ax1.set_xlim(setup_hyperbolic.x_range)            \n",
    "ax1.set_ylim((-0.2, 0.2))\n",
    "ax1.set_xlabel('X')\n",
    "ax1.set_ylabel('Magnitude')\n",
    "\n",
    "# create objects that will change in the animation. These are\n",
    "# initially empty, and will be given new values for each frame\n",
    "# in the animation.\n",
    "txt_title = ax1.set_title('')\n",
    "line1, = ax1.plot([], [], 'orange', lw=2)     # ax.plot returns a list of 2D line objects"
   ]
  },
  {
   "cell_type": "code",
   "execution_count": null,
   "metadata": {
    "id": "kLHCwZwphVWY"
   },
   "outputs": [],
   "source": [
    "# animation function. This is called sequentially\n",
    "def drawframe(n):\n",
    "    x = setup_hyperbolic.X\n",
    "    y = numerical_hyperbolic[:, n]\n",
    "    line1.set_data(x, y)\n",
    "    txt_title.set_text('Frame = {0:4d}'.format(n))\n",
    "    return (line1,)"
   ]
  },
  {
   "cell_type": "code",
   "execution_count": null,
   "metadata": {
    "id": "Aoda7HrUhX_G"
   },
   "outputs": [],
   "source": [
    "from matplotlib import animation\n",
    "\n",
    "# blit=True re-draws only the parts that have changed.\n",
    "interval=setup_hyperbolic.t_range[1] * 1000 // numerical_hyperbolic.shape[1]\n",
    "anim = animation.FuncAnimation(fig, drawframe, frames=numerical_hyperbolic.shape[1], interval=interval, blit=True)"
   ]
  },
  {
   "cell_type": "code",
   "execution_count": null,
   "metadata": {
    "colab": {
     "base_uri": "https://localhost:8080/",
     "height": 381
    },
    "id": "FMWlIgz_haTa",
    "outputId": "321e6221-3e4f-4c2b-85da-c0250e5fce85"
   },
   "outputs": [],
   "source": [
    "from IPython.display import HTML\n",
    "HTML(anim.to_html5_video())"
   ]
  },
  {
   "cell_type": "code",
   "execution_count": null,
   "metadata": {
    "id": "DqBRNE-KvchY"
   },
   "outputs": [],
   "source": []
  }
 ],
 "metadata": {
  "colab": {
   "collapsed_sections": [],
   "name": "Hyperbolic.ipynb",
   "provenance": []
  },
  "kernelspec": {
   "display_name": "Python 3 (ipykernel)",
   "language": "python",
   "name": "python3"
  },
  "language_info": {
   "codemirror_mode": {
    "name": "ipython",
    "version": 3
   },
   "file_extension": ".py",
   "mimetype": "text/x-python",
   "name": "python",
   "nbconvert_exporter": "python",
   "pygments_lexer": "ipython3",
   "version": "3.9.9"
  }
 },
 "nbformat": 4,
 "nbformat_minor": 1
}
